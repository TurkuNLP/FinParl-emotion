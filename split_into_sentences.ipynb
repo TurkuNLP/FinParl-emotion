{
 "cells": [
  {
   "cell_type": "code",
   "execution_count": 9,
   "id": "ae12dc1a-b7e6-4eb0-86c6-422ad725b458",
   "metadata": {},
   "outputs": [],
   "source": [
    "import trankit\n",
    "import pandas as pd\n",
    "from tqdm import tqdm"
   ]
  },
  {
   "cell_type": "code",
   "execution_count": 5,
   "id": "600235ec-aa7f-46d3-b673-35393100f877",
   "metadata": {},
   "outputs": [
    {
     "data": {
      "text/html": [
       "<div>\n",
       "<style scoped>\n",
       "    .dataframe tbody tr th:only-of-type {\n",
       "        vertical-align: middle;\n",
       "    }\n",
       "\n",
       "    .dataframe tbody tr th {\n",
       "        vertical-align: top;\n",
       "    }\n",
       "\n",
       "    .dataframe thead th {\n",
       "        text-align: right;\n",
       "    }\n",
       "</style>\n",
       "<table border=\"1\" class=\"dataframe\">\n",
       "  <thead>\n",
       "    <tr style=\"text-align: right;\">\n",
       "      <th></th>\n",
       "      <th>id</th>\n",
       "      <th>puhe</th>\n",
       "    </tr>\n",
       "  </thead>\n",
       "  <tbody>\n",
       "    <tr>\n",
       "      <th>0</th>\n",
       "      <td>http://ldf.fi/semparl/speeches/s2021_1_124_201</td>\n",
       "      <td>Ensimmäiseen käsittelyyn esitellään päiväjärje...</td>\n",
       "    </tr>\n",
       "    <tr>\n",
       "      <th>1</th>\n",
       "      <td>http://ldf.fi/semparl/speeches/s2021_1_124_202</td>\n",
       "      <td>Kiitos, arvoisa puhemies! Hallituksen esitykse...</td>\n",
       "    </tr>\n",
       "    <tr>\n",
       "      <th>2</th>\n",
       "      <td>http://ldf.fi/semparl/speeches/s2021_1_124_203</td>\n",
       "      <td>Kiitoksia. — Edustaja Rantanen, Mari, olkaa hyvä.</td>\n",
       "    </tr>\n",
       "    <tr>\n",
       "      <th>3</th>\n",
       "      <td>http://ldf.fi/semparl/speeches/s2021_1_124_204</td>\n",
       "      <td>Arvoisa puhemies! En käy toistamaan edustaja K...</td>\n",
       "    </tr>\n",
       "    <tr>\n",
       "      <th>4</th>\n",
       "      <td>http://ldf.fi/semparl/speeches/s2021_1_124_205</td>\n",
       "      <td>Vasta huomenna käsittelyssä tehdään ehdotukset...</td>\n",
       "    </tr>\n",
       "    <tr>\n",
       "      <th>...</th>\n",
       "      <td>...</td>\n",
       "      <td>...</td>\n",
       "    </tr>\n",
       "    <tr>\n",
       "      <th>524</th>\n",
       "      <td>http://ldf.fi/semparl/speeches/s2021_1_091_038</td>\n",
       "      <td>Arvoisa puhemies! Tässä tuli vielä muutama kys...</td>\n",
       "    </tr>\n",
       "    <tr>\n",
       "      <th>525</th>\n",
       "      <td>http://ldf.fi/semparl/speeches/s2021_1_091_039</td>\n",
       "      <td>Vielä ministeri Skinnari, olkaa hyvä.</td>\n",
       "    </tr>\n",
       "    <tr>\n",
       "      <th>526</th>\n",
       "      <td>http://ldf.fi/semparl/speeches/s2021_1_091_040</td>\n",
       "      <td>Arvoisa puhemies! Edustaja Satonen hienosti ti...</td>\n",
       "    </tr>\n",
       "    <tr>\n",
       "      <th>527</th>\n",
       "      <td>http://ldf.fi/semparl/speeches/s2021_1_091_041</td>\n",
       "      <td>Keskustelu on päättynyt, ja samalla totean, et...</td>\n",
       "    </tr>\n",
       "    <tr>\n",
       "      <th>528</th>\n",
       "      <td>http://ldf.fi/semparl/speeches/s2021_1_091_042</td>\n",
       "      <td>Ainoaan käsittelyyn esitellään päiväjärjestyks...</td>\n",
       "    </tr>\n",
       "  </tbody>\n",
       "</table>\n",
       "<p>529 rows × 2 columns</p>\n",
       "</div>"
      ],
      "text/plain": [
       "                                                 id  \\\n",
       "0    http://ldf.fi/semparl/speeches/s2021_1_124_201   \n",
       "1    http://ldf.fi/semparl/speeches/s2021_1_124_202   \n",
       "2    http://ldf.fi/semparl/speeches/s2021_1_124_203   \n",
       "3    http://ldf.fi/semparl/speeches/s2021_1_124_204   \n",
       "4    http://ldf.fi/semparl/speeches/s2021_1_124_205   \n",
       "..                                              ...   \n",
       "524  http://ldf.fi/semparl/speeches/s2021_1_091_038   \n",
       "525  http://ldf.fi/semparl/speeches/s2021_1_091_039   \n",
       "526  http://ldf.fi/semparl/speeches/s2021_1_091_040   \n",
       "527  http://ldf.fi/semparl/speeches/s2021_1_091_041   \n",
       "528  http://ldf.fi/semparl/speeches/s2021_1_091_042   \n",
       "\n",
       "                                                  puhe  \n",
       "0    Ensimmäiseen käsittelyyn esitellään päiväjärje...  \n",
       "1    Kiitos, arvoisa puhemies! Hallituksen esitykse...  \n",
       "2    Kiitoksia. — Edustaja Rantanen, Mari, olkaa hyvä.  \n",
       "3    Arvoisa puhemies! En käy toistamaan edustaja K...  \n",
       "4    Vasta huomenna käsittelyssä tehdään ehdotukset...  \n",
       "..                                                 ...  \n",
       "524  Arvoisa puhemies! Tässä tuli vielä muutama kys...  \n",
       "525              Vielä ministeri Skinnari, olkaa hyvä.  \n",
       "526  Arvoisa puhemies! Edustaja Satonen hienosti ti...  \n",
       "527  Keskustelu on päättynyt, ja samalla totean, et...  \n",
       "528  Ainoaan käsittelyyn esitellään päiväjärjestyks...  \n",
       "\n",
       "[529 rows x 2 columns]"
      ]
     },
     "execution_count": 5,
     "metadata": {},
     "output_type": "execute_result"
    }
   ],
   "source": [
    "df = pd.read_csv(\"../data/annotointidata/annotointidata.tsv\", sep = \"\\t\")\n",
    "df"
   ]
  },
  {
   "cell_type": "code",
   "execution_count": 6,
   "id": "19a139df-4629-42c5-8e7c-eaaf81a29b31",
   "metadata": {},
   "outputs": [],
   "source": [
    "speeches = [speech.strip(\"\\n \") for speech in df[\"puhe\"].to_list()]"
   ]
  },
  {
   "cell_type": "code",
   "execution_count": 10,
   "id": "1670eb3e-1853-4a92-8cfc-8437b39adf24",
   "metadata": {},
   "outputs": [
    {
     "name": "stdout",
     "output_type": "stream",
     "text": [
      "Loading pretrained XLM-Roberta, this may take a while...\n",
      "Loading tokenizer for finnish\n",
      "Loading tagger for finnish\n",
      "Loading multi-word expander for finnish\n",
      "Loading lemmatizer for finnish\n",
      "==================================================\n",
      "Active language: finnish\n",
      "==================================================\n"
     ]
    },
    {
     "name": "stderr",
     "output_type": "stream",
     "text": [
      "529it [07:23,  1.19it/s]\n"
     ]
    }
   ],
   "source": [
    "sentences = []\n",
    "speech_num = []\n",
    "trankit_pipeline = trankit.Pipeline(\"finnish\") # Initialize Trankit pipeline\n",
    "for i, speech in tqdm(enumerate(speeches)):\n",
    "    speech_sentences = [sentence[\"text\"] for sentence in trankit_pipeline.ssplit(speech)[\"sentences\"]]\n",
    "    sentences.extend(speech_sentences)\n",
    "    for _ in speech_sentences:\n",
    "        speech_num.append(i)"
   ]
  },
  {
   "cell_type": "code",
   "execution_count": 11,
   "id": "77f22a41-13a9-4eef-8ff6-8d333a0d2cf4",
   "metadata": {},
   "outputs": [
    {
     "name": "stdout",
     "output_type": "stream",
     "text": [
      "6025\n",
      "['Ensimmäiseen käsittelyyn esitellään päiväjärjestyksen 17. asia.', 'Käsittelyn pohjana on lakivaliokunnan mietintö LaVM 13/2021 vp.', 'Nyt päätetään lakiehdotusten sisällöstä.', '— Yleiskeskustelu, edustaja Keto-Huovinen, olkaa hyvä.', 'Kiitos, arvoisa puhemies!', 'Hallituksen esityksessä ehdotetaan Rikosseuraamuslaitoksen rekistereissä olevien tietojen säilytysaikojen lyhentämistä joiltakin osin.', 'Tätä perustellaan muun muassa EU:n tietosuojalainsäädännön vaatimuksien yksityiskohtaisemmalla noudattamisella myös Rikosseuraamuslaitoksen toiminnassa.', 'Turvallisuustietorekisteri sisältää vankeusrangaistuksen aikana kerättyjä tietoja rikosten estämiseksi tai laitosturvallisuuden ylläpitämiseksi.', 'Tietoja kerätään vangeista ja tutkintavangeista, joiden voidaan perustellusti epäillä syyllistyvän rikokseen, josta saattaa seurata vankeutta.', 'Rikosseuraamuslaitos saa tällä hetkellä myös käsitellä vankeja ja tutkintavankeja tapaavia sekä heihin muutoin yhteyttä pitäviä henkilöitä koskevia tietoja laitosjärjestyksen ja turvallisuuden ylläpitämiseksi.']\n"
     ]
    }
   ],
   "source": [
    "print(len(sentences))\n",
    "print(sentences[0:10])"
   ]
  },
  {
   "cell_type": "code",
   "execution_count": 12,
   "id": "bab14f9b-93c7-439a-9bf6-ec21f0f95ad7",
   "metadata": {},
   "outputs": [
    {
     "name": "stdout",
     "output_type": "stream",
     "text": [
      "[0, 0, 0, 0, 1, 1, 1, 1, 1, 1]\n"
     ]
    }
   ],
   "source": [
    "print(speech_num[:10])"
   ]
  },
  {
   "cell_type": "code",
   "execution_count": 18,
   "id": "343466c5-dea5-4cf3-bcd4-eba9f44280d5",
   "metadata": {},
   "outputs": [],
   "source": [
    "import pandas as pd"
   ]
  },
  {
   "cell_type": "code",
   "execution_count": 14,
   "id": "a7f4fbee-eca3-48e8-a9bb-c690ace6b86e",
   "metadata": {},
   "outputs": [],
   "source": [
    "speech_ids= df[\"id\"].to_list()"
   ]
  },
  {
   "cell_type": "code",
   "execution_count": 17,
   "id": "017ac33e-ebb9-4c82-ac96-dc2a7af1943a",
   "metadata": {},
   "outputs": [
    {
     "data": {
      "text/plain": [
       "True"
      ]
     },
     "execution_count": 17,
     "metadata": {},
     "output_type": "execute_result"
    }
   ],
   "source": [
    "n = [speech_ids[i] for i in speech_num]\n",
    "len(n) == len(sentences)"
   ]
  },
  {
   "cell_type": "code",
   "execution_count": 18,
   "id": "74ef8be4-9a42-4848-b6e7-b780fdd5c7d9",
   "metadata": {},
   "outputs": [
    {
     "data": {
      "text/html": [
       "<div>\n",
       "<style scoped>\n",
       "    .dataframe tbody tr th:only-of-type {\n",
       "        vertical-align: middle;\n",
       "    }\n",
       "\n",
       "    .dataframe tbody tr th {\n",
       "        vertical-align: top;\n",
       "    }\n",
       "\n",
       "    .dataframe thead th {\n",
       "        text-align: right;\n",
       "    }\n",
       "</style>\n",
       "<table border=\"1\" class=\"dataframe\">\n",
       "  <thead>\n",
       "    <tr style=\"text-align: right;\">\n",
       "      <th></th>\n",
       "      <th>speech_id</th>\n",
       "      <th>text</th>\n",
       "    </tr>\n",
       "  </thead>\n",
       "  <tbody>\n",
       "    <tr>\n",
       "      <th>0</th>\n",
       "      <td>http://ldf.fi/semparl/speeches/s2021_1_124_201</td>\n",
       "      <td>Ensimmäiseen käsittelyyn esitellään päiväjärje...</td>\n",
       "    </tr>\n",
       "    <tr>\n",
       "      <th>1</th>\n",
       "      <td>http://ldf.fi/semparl/speeches/s2021_1_124_201</td>\n",
       "      <td>Käsittelyn pohjana on lakivaliokunnan mietintö...</td>\n",
       "    </tr>\n",
       "    <tr>\n",
       "      <th>2</th>\n",
       "      <td>http://ldf.fi/semparl/speeches/s2021_1_124_201</td>\n",
       "      <td>Nyt päätetään lakiehdotusten sisällöstä.</td>\n",
       "    </tr>\n",
       "    <tr>\n",
       "      <th>3</th>\n",
       "      <td>http://ldf.fi/semparl/speeches/s2021_1_124_201</td>\n",
       "      <td>— Yleiskeskustelu, edustaja Keto-Huovinen, olk...</td>\n",
       "    </tr>\n",
       "    <tr>\n",
       "      <th>4</th>\n",
       "      <td>http://ldf.fi/semparl/speeches/s2021_1_124_202</td>\n",
       "      <td>Kiitos, arvoisa puhemies!</td>\n",
       "    </tr>\n",
       "    <tr>\n",
       "      <th>...</th>\n",
       "      <td>...</td>\n",
       "      <td>...</td>\n",
       "    </tr>\n",
       "    <tr>\n",
       "      <th>6020</th>\n",
       "      <td>http://ldf.fi/semparl/speeches/s2021_1_091_040</td>\n",
       "      <td>— Kiitoksia.</td>\n",
       "    </tr>\n",
       "    <tr>\n",
       "      <th>6021</th>\n",
       "      <td>http://ldf.fi/semparl/speeches/s2021_1_091_041</td>\n",
       "      <td>Keskustelu on päättynyt, ja samalla totean, et...</td>\n",
       "    </tr>\n",
       "    <tr>\n",
       "      <th>6022</th>\n",
       "      <td>http://ldf.fi/semparl/speeches/s2021_1_091_042</td>\n",
       "      <td>Ainoaan käsittelyyn esitellään päiväjärjestyks...</td>\n",
       "    </tr>\n",
       "    <tr>\n",
       "      <th>6023</th>\n",
       "      <td>http://ldf.fi/semparl/speeches/s2021_1_091_042</td>\n",
       "      <td>Puhemiesneuvosto ehdottaa, että eduskunta päät...</td>\n",
       "    </tr>\n",
       "    <tr>\n",
       "      <th>6024</th>\n",
       "      <td>http://ldf.fi/semparl/speeches/s2021_1_091_042</td>\n",
       "      <td>— Avaan keskustelun.</td>\n",
       "    </tr>\n",
       "  </tbody>\n",
       "</table>\n",
       "<p>6025 rows × 2 columns</p>\n",
       "</div>"
      ],
      "text/plain": [
       "                                           speech_id  \\\n",
       "0     http://ldf.fi/semparl/speeches/s2021_1_124_201   \n",
       "1     http://ldf.fi/semparl/speeches/s2021_1_124_201   \n",
       "2     http://ldf.fi/semparl/speeches/s2021_1_124_201   \n",
       "3     http://ldf.fi/semparl/speeches/s2021_1_124_201   \n",
       "4     http://ldf.fi/semparl/speeches/s2021_1_124_202   \n",
       "...                                              ...   \n",
       "6020  http://ldf.fi/semparl/speeches/s2021_1_091_040   \n",
       "6021  http://ldf.fi/semparl/speeches/s2021_1_091_041   \n",
       "6022  http://ldf.fi/semparl/speeches/s2021_1_091_042   \n",
       "6023  http://ldf.fi/semparl/speeches/s2021_1_091_042   \n",
       "6024  http://ldf.fi/semparl/speeches/s2021_1_091_042   \n",
       "\n",
       "                                                   text  \n",
       "0     Ensimmäiseen käsittelyyn esitellään päiväjärje...  \n",
       "1     Käsittelyn pohjana on lakivaliokunnan mietintö...  \n",
       "2              Nyt päätetään lakiehdotusten sisällöstä.  \n",
       "3     — Yleiskeskustelu, edustaja Keto-Huovinen, olk...  \n",
       "4                             Kiitos, arvoisa puhemies!  \n",
       "...                                                 ...  \n",
       "6020                                       — Kiitoksia.  \n",
       "6021  Keskustelu on päättynyt, ja samalla totean, et...  \n",
       "6022  Ainoaan käsittelyyn esitellään päiväjärjestyks...  \n",
       "6023  Puhemiesneuvosto ehdottaa, että eduskunta päät...  \n",
       "6024                               — Avaan keskustelun.  \n",
       "\n",
       "[6025 rows x 2 columns]"
      ]
     },
     "execution_count": 18,
     "metadata": {},
     "output_type": "execute_result"
    }
   ],
   "source": [
    "df = pd.DataFrame()\n",
    "df[\"speech_id\"] = n\n",
    "df[\"text\"] = sentences\n",
    "df"
   ]
  },
  {
   "cell_type": "code",
   "execution_count": 19,
   "id": "fa579075-b6e0-4619-9c6d-60158c647d32",
   "metadata": {},
   "outputs": [],
   "source": [
    "df.to_csv(\"../data/annotointidata/annotointidata.tsv\", sep = \"\\t\", index = False)"
   ]
  },
  {
   "cell_type": "code",
   "execution_count": 3,
   "id": "f59e4198-8c18-4eb5-8182-d11a8a2a17e1",
   "metadata": {},
   "outputs": [
    {
     "ename": "ParserError",
     "evalue": "Error tokenizing data. C error: EOF inside string starting at row 13",
     "output_type": "error",
     "traceback": [
      "\u001b[0;31m---------------------------------------------------------------------------\u001b[0m",
      "\u001b[0;31mParserError\u001b[0m                               Traceback (most recent call last)",
      "Cell \u001b[0;32mIn[3], line 1\u001b[0m\n\u001b[0;32m----> 1\u001b[0m df \u001b[38;5;241m=\u001b[39m \u001b[43mpd\u001b[49m\u001b[38;5;241;43m.\u001b[39;49m\u001b[43mread_csv\u001b[49m\u001b[43m(\u001b[49m\u001b[38;5;124;43m\"\u001b[39;49m\u001b[38;5;124;43m../data/chatgpt/chatgpt_annotations.tsv\u001b[39;49m\u001b[38;5;124;43m\"\u001b[39;49m\u001b[43m,\u001b[49m\u001b[43m \u001b[49m\u001b[43msep\u001b[49m\u001b[43m \u001b[49m\u001b[38;5;241;43m=\u001b[39;49m\u001b[43m \u001b[49m\u001b[38;5;124;43m\"\u001b[39;49m\u001b[38;5;130;43;01m\\t\u001b[39;49;00m\u001b[38;5;124;43m\"\u001b[39;49m\u001b[43m)\u001b[49m\n\u001b[1;32m      2\u001b[0m df\n",
      "File \u001b[0;32m/usr/local/lib64/python3.9/site-packages/pandas/io/parsers/readers.py:948\u001b[0m, in \u001b[0;36mread_csv\u001b[0;34m(filepath_or_buffer, sep, delimiter, header, names, index_col, usecols, dtype, engine, converters, true_values, false_values, skipinitialspace, skiprows, skipfooter, nrows, na_values, keep_default_na, na_filter, verbose, skip_blank_lines, parse_dates, infer_datetime_format, keep_date_col, date_parser, date_format, dayfirst, cache_dates, iterator, chunksize, compression, thousands, decimal, lineterminator, quotechar, quoting, doublequote, escapechar, comment, encoding, encoding_errors, dialect, on_bad_lines, delim_whitespace, low_memory, memory_map, float_precision, storage_options, dtype_backend)\u001b[0m\n\u001b[1;32m    935\u001b[0m kwds_defaults \u001b[38;5;241m=\u001b[39m _refine_defaults_read(\n\u001b[1;32m    936\u001b[0m     dialect,\n\u001b[1;32m    937\u001b[0m     delimiter,\n\u001b[0;32m   (...)\u001b[0m\n\u001b[1;32m    944\u001b[0m     dtype_backend\u001b[38;5;241m=\u001b[39mdtype_backend,\n\u001b[1;32m    945\u001b[0m )\n\u001b[1;32m    946\u001b[0m kwds\u001b[38;5;241m.\u001b[39mupdate(kwds_defaults)\n\u001b[0;32m--> 948\u001b[0m \u001b[38;5;28;01mreturn\u001b[39;00m \u001b[43m_read\u001b[49m\u001b[43m(\u001b[49m\u001b[43mfilepath_or_buffer\u001b[49m\u001b[43m,\u001b[49m\u001b[43m \u001b[49m\u001b[43mkwds\u001b[49m\u001b[43m)\u001b[49m\n",
      "File \u001b[0;32m/usr/local/lib64/python3.9/site-packages/pandas/io/parsers/readers.py:617\u001b[0m, in \u001b[0;36m_read\u001b[0;34m(filepath_or_buffer, kwds)\u001b[0m\n\u001b[1;32m    614\u001b[0m     \u001b[38;5;28;01mreturn\u001b[39;00m parser\n\u001b[1;32m    616\u001b[0m \u001b[38;5;28;01mwith\u001b[39;00m parser:\n\u001b[0;32m--> 617\u001b[0m     \u001b[38;5;28;01mreturn\u001b[39;00m \u001b[43mparser\u001b[49m\u001b[38;5;241;43m.\u001b[39;49m\u001b[43mread\u001b[49m\u001b[43m(\u001b[49m\u001b[43mnrows\u001b[49m\u001b[43m)\u001b[49m\n",
      "File \u001b[0;32m/usr/local/lib64/python3.9/site-packages/pandas/io/parsers/readers.py:1748\u001b[0m, in \u001b[0;36mTextFileReader.read\u001b[0;34m(self, nrows)\u001b[0m\n\u001b[1;32m   1741\u001b[0m nrows \u001b[38;5;241m=\u001b[39m validate_integer(\u001b[38;5;124m\"\u001b[39m\u001b[38;5;124mnrows\u001b[39m\u001b[38;5;124m\"\u001b[39m, nrows)\n\u001b[1;32m   1742\u001b[0m \u001b[38;5;28;01mtry\u001b[39;00m:\n\u001b[1;32m   1743\u001b[0m     \u001b[38;5;66;03m# error: \"ParserBase\" has no attribute \"read\"\u001b[39;00m\n\u001b[1;32m   1744\u001b[0m     (\n\u001b[1;32m   1745\u001b[0m         index,\n\u001b[1;32m   1746\u001b[0m         columns,\n\u001b[1;32m   1747\u001b[0m         col_dict,\n\u001b[0;32m-> 1748\u001b[0m     ) \u001b[38;5;241m=\u001b[39m \u001b[38;5;28;43mself\u001b[39;49m\u001b[38;5;241;43m.\u001b[39;49m\u001b[43m_engine\u001b[49m\u001b[38;5;241;43m.\u001b[39;49m\u001b[43mread\u001b[49m\u001b[43m(\u001b[49m\u001b[43m  \u001b[49m\u001b[38;5;66;43;03m# type: ignore[attr-defined]\u001b[39;49;00m\n\u001b[1;32m   1749\u001b[0m \u001b[43m        \u001b[49m\u001b[43mnrows\u001b[49m\n\u001b[1;32m   1750\u001b[0m \u001b[43m    \u001b[49m\u001b[43m)\u001b[49m\n\u001b[1;32m   1751\u001b[0m \u001b[38;5;28;01mexcept\u001b[39;00m \u001b[38;5;167;01mException\u001b[39;00m:\n\u001b[1;32m   1752\u001b[0m     \u001b[38;5;28mself\u001b[39m\u001b[38;5;241m.\u001b[39mclose()\n",
      "File \u001b[0;32m/usr/local/lib64/python3.9/site-packages/pandas/io/parsers/c_parser_wrapper.py:234\u001b[0m, in \u001b[0;36mCParserWrapper.read\u001b[0;34m(self, nrows)\u001b[0m\n\u001b[1;32m    232\u001b[0m \u001b[38;5;28;01mtry\u001b[39;00m:\n\u001b[1;32m    233\u001b[0m     \u001b[38;5;28;01mif\u001b[39;00m \u001b[38;5;28mself\u001b[39m\u001b[38;5;241m.\u001b[39mlow_memory:\n\u001b[0;32m--> 234\u001b[0m         chunks \u001b[38;5;241m=\u001b[39m \u001b[38;5;28;43mself\u001b[39;49m\u001b[38;5;241;43m.\u001b[39;49m\u001b[43m_reader\u001b[49m\u001b[38;5;241;43m.\u001b[39;49m\u001b[43mread_low_memory\u001b[49m\u001b[43m(\u001b[49m\u001b[43mnrows\u001b[49m\u001b[43m)\u001b[49m\n\u001b[1;32m    235\u001b[0m         \u001b[38;5;66;03m# destructive to chunks\u001b[39;00m\n\u001b[1;32m    236\u001b[0m         data \u001b[38;5;241m=\u001b[39m _concatenate_chunks(chunks)\n",
      "File \u001b[0;32mparsers.pyx:843\u001b[0m, in \u001b[0;36mpandas._libs.parsers.TextReader.read_low_memory\u001b[0;34m()\u001b[0m\n",
      "File \u001b[0;32mparsers.pyx:904\u001b[0m, in \u001b[0;36mpandas._libs.parsers.TextReader._read_rows\u001b[0;34m()\u001b[0m\n",
      "File \u001b[0;32mparsers.pyx:879\u001b[0m, in \u001b[0;36mpandas._libs.parsers.TextReader._tokenize_rows\u001b[0;34m()\u001b[0m\n",
      "File \u001b[0;32mparsers.pyx:890\u001b[0m, in \u001b[0;36mpandas._libs.parsers.TextReader._check_tokenize_status\u001b[0;34m()\u001b[0m\n",
      "File \u001b[0;32mparsers.pyx:2058\u001b[0m, in \u001b[0;36mpandas._libs.parsers.raise_parser_error\u001b[0;34m()\u001b[0m\n",
      "\u001b[0;31mParserError\u001b[0m: Error tokenizing data. C error: EOF inside string starting at row 13"
     ]
    }
   ],
   "source": [
    "df = pd.read_csv(\"../data/chatgpt/chatgpt_annotations.tsv\", sep = \"\\t\")\n",
    "df"
   ]
  },
  {
   "cell_type": "code",
   "execution_count": 4,
   "id": "34307762-5031-4d85-a1e2-6c3f36c45037",
   "metadata": {},
   "outputs": [],
   "source": [
    "with open(\"../data/chatgpt/chatgpt_annotations.tsv\") as f:\n",
    "    file = f.readlines()"
   ]
  },
  {
   "cell_type": "code",
   "execution_count": 11,
   "id": "60d26052-34cc-4fea-af01-8c622bc08bc4",
   "metadata": {},
   "outputs": [],
   "source": [
    "data = [line.split(\"\\t\")[1] for line in file]\n",
    "data = [line.split(\":\")[1] for line in data]\n",
    "data = [line.strip(\"\\n \") for line in data]\n",
    "data = [line.lower() for line in data]\n",
    "with open(\"chatgpt_annotatins.txt\", \"w\") as f:\n",
    "    for line in data:\n",
    "        f.write(line)\n",
    "        f.write(\"\\n\")"
   ]
  },
  {
   "cell_type": "code",
   "execution_count": null,
   "id": "61ff618c-d172-4f7d-b535-37a4b7886960",
   "metadata": {},
   "outputs": [],
   "source": []
  }
 ],
 "metadata": {
  "kernelspec": {
   "display_name": "Python 3 (ipykernel)",
   "language": "python",
   "name": "python3"
  },
  "language_info": {
   "codemirror_mode": {
    "name": "ipython",
    "version": 3
   },
   "file_extension": ".py",
   "mimetype": "text/x-python",
   "name": "python",
   "nbconvert_exporter": "python",
   "pygments_lexer": "ipython3",
   "version": "3.9.16"
  }
 },
 "nbformat": 4,
 "nbformat_minor": 5
}
