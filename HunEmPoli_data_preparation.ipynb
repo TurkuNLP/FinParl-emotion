{
 "cells": [
  {
   "cell_type": "code",
   "execution_count": 1,
   "id": "0e4f573b-ba7a-4462-bd65-0cc329f97bd5",
   "metadata": {},
   "outputs": [],
   "source": [
    "import pandas as pd\n",
    "import os\n",
    "from sklearn.model_selection import train_test_split\n",
    "from collections import Counter"
   ]
  },
  {
   "cell_type": "code",
   "execution_count": 2,
   "id": "7b5b8302-8c46-4cbf-b185-49db6ab92102",
   "metadata": {},
   "outputs": [
    {
     "data": {
      "text/plain": [
       "['deepl-0-fi.txt', 'deepl-1-fi.txt', 'deepl-2-fi.txt', 'deepl-3-fi.txt']"
      ]
     },
     "execution_count": 2,
     "metadata": {},
     "output_type": "execute_result"
    }
   ],
   "source": [
    "# Get file names and sort them to get them in the right order\n",
    "file_names = [file for file in os.listdir(\"../data/HunEmPoli_fi/\") if file.endswith(\".txt\")]\n",
    "file_names.sort(key=lambda file: file[6])\n",
    "file_names"
   ]
  },
  {
   "cell_type": "code",
   "execution_count": 3,
   "id": "6f4887f5-a129-4fa6-b51e-21eb5e86586b",
   "metadata": {},
   "outputs": [],
   "source": [
    "data = []\n",
    "for name in file_names:\n",
    "    with open(f\"../data/HunEmPoli_fi/{name}\") as f:\n",
    "        file = f.readlines()\n",
    "        for item in file:\n",
    "            data.append(item)"
   ]
  },
  {
   "cell_type": "code",
   "execution_count": 4,
   "id": "50d946a2-90fb-4de6-ba61-8dc6c6525c57",
   "metadata": {},
   "outputs": [],
   "source": [
    "headers = []\n",
    "content = []\n",
    "for idx, line in enumerate(data):\n",
    "    if idx % 2 == 0:\n",
    "        headers.append(line)\n",
    "    else:\n",
    "        content.append(line)"
   ]
  },
  {
   "cell_type": "code",
   "execution_count": 5,
   "id": "065f55e4-8b2c-4492-a190-f244577c19ef",
   "metadata": {},
   "outputs": [
    {
     "data": {
      "text/plain": [
       "['\\ufeffAsiakirjan numero 0\\n',\n",
       " 'Asiakirjan numero 1\\n',\n",
       " 'Asiakirja numero 2\\n',\n",
       " 'Asiakirja numero 3\\n',\n",
       " 'Asiakirja numero 4\\n',\n",
       " 'Asiakirja numero 5\\n',\n",
       " 'Asiakirja numero 6\\n',\n",
       " 'Asiakirja numero 7\\n',\n",
       " 'Asiakirja numero 8\\n',\n",
       " 'Asiakirja numero 9\\n']"
      ]
     },
     "execution_count": 5,
     "metadata": {},
     "output_type": "execute_result"
    }
   ],
   "source": [
    "headers[0:10]"
   ]
  },
  {
   "cell_type": "code",
   "execution_count": 6,
   "id": "876a7b6e-c79c-43a5-a656-6a4058ccf9ad",
   "metadata": {},
   "outputs": [
    {
     "data": {
      "text/plain": [
       "True"
      ]
     },
     "execution_count": 6,
     "metadata": {},
     "output_type": "execute_result"
    }
   ],
   "source": [
    "# Confirm that every other line is a header\n",
    "len(headers) == len(data)/2"
   ]
  },
  {
   "cell_type": "code",
   "execution_count": 7,
   "id": "e3263c4a-f138-4eff-a1c7-3ac72590f6f2",
   "metadata": {},
   "outputs": [
    {
     "data": {
      "text/plain": [
       "['Parlamentti valitsi lauantaina ensimmäistä kertaa neljännesvuosisataan pääministerin ilman hallitusohjelmaa.\\n',\n",
       " 'Neljän viime vuoden aikana Unkarin BKT on kasvanut 2,1 prosenttia, kun taas EU:n keskiarvo on 4,4 prosenttia, Romanian 5,3 prosenttia, Slovakian yli 9 prosenttia, Puolan 12 prosenttia ja Bulgarian lähes 4 prosenttia.\\n',\n",
       " 'Jos jatkatte näin, Unkarista tulee Euroopan köyhäintalo vuoteen 2020 mennessä.\\n',\n",
       " 'Vuodesta 2010 lähtien Unkarissa ei ole enää elämiseen riittäviä työpaikkoja, mutta yhä useampi köyhä on työssä.\\n',\n",
       " 'Tosiasia on, että vaikka vähimmäispalkkaa korotettiin 38 prosenttia, nettopalkkojen kasvu on ollut 10 prosenttia viimeisten neljän vuoden aikana.\\n',\n",
       " 'Verokiila kasvoi, Unkarissa OECD-maiden neljänneksi korkein Unkarissa\\n',\n",
       " 'Nykyään unkarilaiset tekevät enemmän töitä vähemmällä rahalla, sillä uusi työlainsäädäntö on mahdollistanut myös ylityökorvausten ja bonusten leikkaamisen, työajan pidentämisen ja lomien lyhentämisen.\\n',\n",
       " 'Kymmenen vuotta sitten tuloerot olivat Unkarissa seitsenkertaiset; viimeisten neljän vuoden aikana ne ovat yhdeksänkertaistuneet.\\n',\n",
       " 'Unkarissa on Euroopan unionin korkein köyhyys- ja huono-osaisuusaste, 26 prosenttia, ja Kreikka on toiseksi korkein, 20 prosenttia.\\n',\n",
       " 'Köyhyys lisääntynyt 4 prosenttia EU:ssa ja 14 prosenttia Unkarissa.\\n']"
      ]
     },
     "execution_count": 7,
     "metadata": {},
     "output_type": "execute_result"
    }
   ],
   "source": [
    "# Let's take a look at the actual content\n",
    "content[0:10]"
   ]
  },
  {
   "cell_type": "code",
   "execution_count": 8,
   "id": "a63b0787-8e20-4dc3-99a1-db7cda5eef36",
   "metadata": {},
   "outputs": [
    {
     "data": {
      "text/plain": [
       "['Parlamentti valitsi lauantaina ensimmäistä kertaa neljännesvuosisataan pääministerin ilman hallitusohjelmaa.',\n",
       " 'Neljän viime vuoden aikana Unkarin BKT on kasvanut 2,1 prosenttia, kun taas EU:n keskiarvo on 4,4 prosenttia, Romanian 5,3 prosenttia, Slovakian yli 9 prosenttia, Puolan 12 prosenttia ja Bulgarian lähes 4 prosenttia.',\n",
       " 'Jos jatkatte näin, Unkarista tulee Euroopan köyhäintalo vuoteen 2020 mennessä.',\n",
       " 'Vuodesta 2010 lähtien Unkarissa ei ole enää elämiseen riittäviä työpaikkoja, mutta yhä useampi köyhä on työssä.',\n",
       " 'Tosiasia on, että vaikka vähimmäispalkkaa korotettiin 38 prosenttia, nettopalkkojen kasvu on ollut 10 prosenttia viimeisten neljän vuoden aikana.',\n",
       " 'Verokiila kasvoi, Unkarissa OECD-maiden neljänneksi korkein Unkarissa',\n",
       " 'Nykyään unkarilaiset tekevät enemmän töitä vähemmällä rahalla, sillä uusi työlainsäädäntö on mahdollistanut myös ylityökorvausten ja bonusten leikkaamisen, työajan pidentämisen ja lomien lyhentämisen.',\n",
       " 'Kymmenen vuotta sitten tuloerot olivat Unkarissa seitsenkertaiset; viimeisten neljän vuoden aikana ne ovat yhdeksänkertaistuneet.',\n",
       " 'Unkarissa on Euroopan unionin korkein köyhyys- ja huono-osaisuusaste, 26 prosenttia, ja Kreikka on toiseksi korkein, 20 prosenttia.',\n",
       " 'Köyhyys lisääntynyt 4 prosenttia EU:ssa ja 14 prosenttia Unkarissa.']"
      ]
     },
     "execution_count": 8,
     "metadata": {},
     "output_type": "execute_result"
    }
   ],
   "source": [
    "# Remove trailing newline characters\n",
    "content = [text.strip(\"\\n\") for text in content]\n",
    "content[0:10]"
   ]
  },
  {
   "cell_type": "code",
   "execution_count": 9,
   "id": "f0036698-e375-48c8-99ea-ab2f9dd2796f",
   "metadata": {},
   "outputs": [
    {
     "data": {
      "text/html": [
       "<div>\n",
       "<style scoped>\n",
       "    .dataframe tbody tr th:only-of-type {\n",
       "        vertical-align: middle;\n",
       "    }\n",
       "\n",
       "    .dataframe tbody tr th {\n",
       "        vertical-align: top;\n",
       "    }\n",
       "\n",
       "    .dataframe thead th {\n",
       "        text-align: right;\n",
       "    }\n",
       "</style>\n",
       "<table border=\"1\" class=\"dataframe\">\n",
       "  <thead>\n",
       "    <tr style=\"text-align: right;\">\n",
       "      <th></th>\n",
       "      <th>Text</th>\n",
       "      <th>Label</th>\n",
       "    </tr>\n",
       "  </thead>\n",
       "  <tbody>\n",
       "    <tr>\n",
       "      <th>0</th>\n",
       "      <td>Szombaton, negyedszázad után először kormánypr...</td>\n",
       "      <td>4</td>\n",
       "    </tr>\n",
       "    <tr>\n",
       "      <th>1</th>\n",
       "      <td>Az elmúlt négy évben Magyarországon a GDP 2,1 ...</td>\n",
       "      <td>2</td>\n",
       "    </tr>\n",
       "    <tr>\n",
       "      <th>2</th>\n",
       "      <td>Ha önök így folytatják, 2020-ra Magyarország E...</td>\n",
       "      <td>2</td>\n",
       "    </tr>\n",
       "    <tr>\n",
       "      <th>3</th>\n",
       "      <td>Hiszen 2010 óta nincs több megélhetést adó mun...</td>\n",
       "      <td>2</td>\n",
       "    </tr>\n",
       "    <tr>\n",
       "      <th>4</th>\n",
       "      <td>Az a helyzet, hogy a minimálbért hiába emelték...</td>\n",
       "      <td>2</td>\n",
       "    </tr>\n",
       "    <tr>\n",
       "      <th>...</th>\n",
       "      <td>...</td>\n",
       "      <td>...</td>\n",
       "    </tr>\n",
       "    <tr>\n",
       "      <th>18997</th>\n",
       "      <td>Mostanra a korábban a Nemzeti Színháznál tünte...</td>\n",
       "      <td>4</td>\n",
       "    </tr>\n",
       "    <tr>\n",
       "      <th>18998</th>\n",
       "      <td>A migráció hatásait egyébként korrekt, objektí...</td>\n",
       "      <td>4</td>\n",
       "    </tr>\n",
       "    <tr>\n",
       "      <th>18999</th>\n",
       "      <td>Önök kérnek elnézést a bécsiektől, akiknek a s...</td>\n",
       "      <td>4</td>\n",
       "    </tr>\n",
       "    <tr>\n",
       "      <th>19000</th>\n",
       "      <td>Azt szeretném csak jelezni, hogy Gyurcsány Fer...</td>\n",
       "      <td>4</td>\n",
       "    </tr>\n",
       "    <tr>\n",
       "      <th>19001</th>\n",
       "      <td>Ehelyett azt javaslom, hogy védjük meg az orsz...</td>\n",
       "      <td>5</td>\n",
       "    </tr>\n",
       "  </tbody>\n",
       "</table>\n",
       "<p>19002 rows × 2 columns</p>\n",
       "</div>"
      ],
      "text/plain": [
       "                                                    Text  Label\n",
       "0      Szombaton, negyedszázad után először kormánypr...      4\n",
       "1      Az elmúlt négy évben Magyarországon a GDP 2,1 ...      2\n",
       "2      Ha önök így folytatják, 2020-ra Magyarország E...      2\n",
       "3      Hiszen 2010 óta nincs több megélhetést adó mun...      2\n",
       "4      Az a helyzet, hogy a minimálbért hiába emelték...      2\n",
       "...                                                  ...    ...\n",
       "18997  Mostanra a korábban a Nemzeti Színháznál tünte...      4\n",
       "18998  A migráció hatásait egyébként korrekt, objektí...      4\n",
       "18999  Önök kérnek elnézést a bécsiektől, akiknek a s...      4\n",
       "19000  Azt szeretném csak jelezni, hogy Gyurcsány Fer...      4\n",
       "19001  Ehelyett azt javaslom, hogy védjük meg az orsz...      5\n",
       "\n",
       "[19002 rows x 2 columns]"
      ]
     },
     "execution_count": 9,
     "metadata": {},
     "output_type": "execute_result"
    }
   ],
   "source": [
    "# Load in the original Hungarian dataset with the labels\n",
    "hun_data = pd.read_csv(\"../data/HunEmPoli/HunEmPoli_8.csv\")\n",
    "hun_data"
   ]
  },
  {
   "cell_type": "code",
   "execution_count": 10,
   "id": "29f15c19-6d14-41d9-873e-cdc940a13a26",
   "metadata": {},
   "outputs": [
    {
     "data": {
      "text/plain": [
       "'Ehelyett azt javaslom, hogy védjük meg az ország biztonságát (Z. Kárpát Dániel: Magatokról egy szót sem beszéltél!), és őrizzük meg azokat az eredményeket, amelyeket az elmúlt nyolc évben sikerült az országnak elérnie'"
      ]
     },
     "execution_count": 10,
     "metadata": {},
     "output_type": "execute_result"
    }
   ],
   "source": [
    "hun_data[\"Text\"].to_list()[-1]"
   ]
  },
  {
   "cell_type": "code",
   "execution_count": 11,
   "id": "9a43ec4f-7807-4b8c-bc1c-f9ef7c6c6287",
   "metadata": {},
   "outputs": [
    {
     "data": {
      "text/plain": [
       "[4, 2, 2, 2, 2, 2, 2, 2, 2, 2]"
      ]
     },
     "execution_count": 11,
     "metadata": {},
     "output_type": "execute_result"
    }
   ],
   "source": [
    "labels = hun_data[\"Label\"].to_list()\n",
    "labels[0:10]"
   ]
  },
  {
   "cell_type": "code",
   "execution_count": 12,
   "id": "766ca2a8-6df1-4bbd-af54-6630473082ae",
   "metadata": {},
   "outputs": [
    {
     "data": {
      "text/html": [
       "<div>\n",
       "<style scoped>\n",
       "    .dataframe tbody tr th:only-of-type {\n",
       "        vertical-align: middle;\n",
       "    }\n",
       "\n",
       "    .dataframe tbody tr th {\n",
       "        vertical-align: top;\n",
       "    }\n",
       "\n",
       "    .dataframe thead th {\n",
       "        text-align: right;\n",
       "    }\n",
       "</style>\n",
       "<table border=\"1\" class=\"dataframe\">\n",
       "  <thead>\n",
       "    <tr style=\"text-align: right;\">\n",
       "      <th></th>\n",
       "      <th>text</th>\n",
       "      <th>label</th>\n",
       "    </tr>\n",
       "  </thead>\n",
       "  <tbody>\n",
       "    <tr>\n",
       "      <th>0</th>\n",
       "      <td>Parlamentti valitsi lauantaina ensimmäistä ker...</td>\n",
       "      <td>4</td>\n",
       "    </tr>\n",
       "    <tr>\n",
       "      <th>1</th>\n",
       "      <td>Neljän viime vuoden aikana Unkarin BKT on kasv...</td>\n",
       "      <td>2</td>\n",
       "    </tr>\n",
       "    <tr>\n",
       "      <th>2</th>\n",
       "      <td>Jos jatkatte näin, Unkarista tulee Euroopan kö...</td>\n",
       "      <td>2</td>\n",
       "    </tr>\n",
       "    <tr>\n",
       "      <th>3</th>\n",
       "      <td>Vuodesta 2010 lähtien Unkarissa ei ole enää el...</td>\n",
       "      <td>2</td>\n",
       "    </tr>\n",
       "    <tr>\n",
       "      <th>4</th>\n",
       "      <td>Tosiasia on, että vaikka vähimmäispalkkaa koro...</td>\n",
       "      <td>2</td>\n",
       "    </tr>\n",
       "    <tr>\n",
       "      <th>...</th>\n",
       "      <td>...</td>\n",
       "      <td>...</td>\n",
       "    </tr>\n",
       "    <tr>\n",
       "      <th>18997</th>\n",
       "      <td>Tähän mennessä Jobbik-puolue, joka oli aiemmin...</td>\n",
       "      <td>4</td>\n",
       "    </tr>\n",
       "    <tr>\n",
       "      <th>18998</th>\n",
       "      <td>Lázárin videon jälkeen (suosionosoitukset Jobb...</td>\n",
       "      <td>4</td>\n",
       "    </tr>\n",
       "    <tr>\n",
       "      <th>18999</th>\n",
       "      <td>Pyydättekö anteeksi niiltä wieniläisiltä, joid...</td>\n",
       "      <td>4</td>\n",
       "    </tr>\n",
       "    <tr>\n",
       "      <th>19000</th>\n",
       "      <td>Haluaisin vain huomauttaa, että Ferenc Gyurcsá...</td>\n",
       "      <td>4</td>\n",
       "    </tr>\n",
       "    <tr>\n",
       "      <th>19001</th>\n",
       "      <td>Sen sijaan ehdotan, että suojelemme maan turva...</td>\n",
       "      <td>5</td>\n",
       "    </tr>\n",
       "  </tbody>\n",
       "</table>\n",
       "<p>19002 rows × 2 columns</p>\n",
       "</div>"
      ],
      "text/plain": [
       "                                                    text  label\n",
       "0      Parlamentti valitsi lauantaina ensimmäistä ker...      4\n",
       "1      Neljän viime vuoden aikana Unkarin BKT on kasv...      2\n",
       "2      Jos jatkatte näin, Unkarista tulee Euroopan kö...      2\n",
       "3      Vuodesta 2010 lähtien Unkarissa ei ole enää el...      2\n",
       "4      Tosiasia on, että vaikka vähimmäispalkkaa koro...      2\n",
       "...                                                  ...    ...\n",
       "18997  Tähän mennessä Jobbik-puolue, joka oli aiemmin...      4\n",
       "18998  Lázárin videon jälkeen (suosionosoitukset Jobb...      4\n",
       "18999  Pyydättekö anteeksi niiltä wieniläisiltä, joid...      4\n",
       "19000  Haluaisin vain huomauttaa, että Ferenc Gyurcsá...      4\n",
       "19001  Sen sijaan ehdotan, että suojelemme maan turva...      5\n",
       "\n",
       "[19002 rows x 2 columns]"
      ]
     },
     "execution_count": 12,
     "metadata": {},
     "output_type": "execute_result"
    }
   ],
   "source": [
    "d = {\"text\": content,\n",
    "    \"label\": labels}\n",
    "\n",
    "df = pd.DataFrame(data = d)\n",
    "df"
   ]
  },
  {
   "cell_type": "code",
   "execution_count": 13,
   "id": "4cf9f5db-e1a8-41bf-a4f3-12ef13306b00",
   "metadata": {},
   "outputs": [
    {
     "data": {
      "text/html": [
       "<div>\n",
       "<style scoped>\n",
       "    .dataframe tbody tr th:only-of-type {\n",
       "        vertical-align: middle;\n",
       "    }\n",
       "\n",
       "    .dataframe tbody tr th {\n",
       "        vertical-align: top;\n",
       "    }\n",
       "\n",
       "    .dataframe thead th {\n",
       "        text-align: right;\n",
       "    }\n",
       "</style>\n",
       "<table border=\"1\" class=\"dataframe\">\n",
       "  <thead>\n",
       "    <tr style=\"text-align: right;\">\n",
       "      <th></th>\n",
       "      <th>text</th>\n",
       "      <th>label</th>\n",
       "      <th>id</th>\n",
       "    </tr>\n",
       "  </thead>\n",
       "  <tbody>\n",
       "    <tr>\n",
       "      <th>0</th>\n",
       "      <td>Parlamentti valitsi lauantaina ensimmäistä ker...</td>\n",
       "      <td>4</td>\n",
       "      <td>2</td>\n",
       "    </tr>\n",
       "    <tr>\n",
       "      <th>1</th>\n",
       "      <td>Neljän viime vuoden aikana Unkarin BKT on kasv...</td>\n",
       "      <td>2</td>\n",
       "      <td>3</td>\n",
       "    </tr>\n",
       "    <tr>\n",
       "      <th>2</th>\n",
       "      <td>Jos jatkatte näin, Unkarista tulee Euroopan kö...</td>\n",
       "      <td>2</td>\n",
       "      <td>4</td>\n",
       "    </tr>\n",
       "    <tr>\n",
       "      <th>3</th>\n",
       "      <td>Vuodesta 2010 lähtien Unkarissa ei ole enää el...</td>\n",
       "      <td>2</td>\n",
       "      <td>5</td>\n",
       "    </tr>\n",
       "    <tr>\n",
       "      <th>4</th>\n",
       "      <td>Tosiasia on, että vaikka vähimmäispalkkaa koro...</td>\n",
       "      <td>2</td>\n",
       "      <td>6</td>\n",
       "    </tr>\n",
       "    <tr>\n",
       "      <th>...</th>\n",
       "      <td>...</td>\n",
       "      <td>...</td>\n",
       "      <td>...</td>\n",
       "    </tr>\n",
       "    <tr>\n",
       "      <th>18997</th>\n",
       "      <td>Tähän mennessä Jobbik-puolue, joka oli aiemmin...</td>\n",
       "      <td>4</td>\n",
       "      <td>18999</td>\n",
       "    </tr>\n",
       "    <tr>\n",
       "      <th>18998</th>\n",
       "      <td>Lázárin videon jälkeen (suosionosoitukset Jobb...</td>\n",
       "      <td>4</td>\n",
       "      <td>19000</td>\n",
       "    </tr>\n",
       "    <tr>\n",
       "      <th>18999</th>\n",
       "      <td>Pyydättekö anteeksi niiltä wieniläisiltä, joid...</td>\n",
       "      <td>4</td>\n",
       "      <td>19001</td>\n",
       "    </tr>\n",
       "    <tr>\n",
       "      <th>19000</th>\n",
       "      <td>Haluaisin vain huomauttaa, että Ferenc Gyurcsá...</td>\n",
       "      <td>4</td>\n",
       "      <td>19002</td>\n",
       "    </tr>\n",
       "    <tr>\n",
       "      <th>19001</th>\n",
       "      <td>Sen sijaan ehdotan, että suojelemme maan turva...</td>\n",
       "      <td>5</td>\n",
       "      <td>19003</td>\n",
       "    </tr>\n",
       "  </tbody>\n",
       "</table>\n",
       "<p>19002 rows × 3 columns</p>\n",
       "</div>"
      ],
      "text/plain": [
       "                                                    text  label     id\n",
       "0      Parlamentti valitsi lauantaina ensimmäistä ker...      4      2\n",
       "1      Neljän viime vuoden aikana Unkarin BKT on kasv...      2      3\n",
       "2      Jos jatkatte näin, Unkarista tulee Euroopan kö...      2      4\n",
       "3      Vuodesta 2010 lähtien Unkarissa ei ole enää el...      2      5\n",
       "4      Tosiasia on, että vaikka vähimmäispalkkaa koro...      2      6\n",
       "...                                                  ...    ...    ...\n",
       "18997  Tähän mennessä Jobbik-puolue, joka oli aiemmin...      4  18999\n",
       "18998  Lázárin videon jälkeen (suosionosoitukset Jobb...      4  19000\n",
       "18999  Pyydättekö anteeksi niiltä wieniläisiltä, joid...      4  19001\n",
       "19000  Haluaisin vain huomauttaa, että Ferenc Gyurcsá...      4  19002\n",
       "19001  Sen sijaan ehdotan, että suojelemme maan turva...      5  19003\n",
       "\n",
       "[19002 rows x 3 columns]"
      ]
     },
     "execution_count": 13,
     "metadata": {},
     "output_type": "execute_result"
    }
   ],
   "source": [
    "# Give each sentence a unique id that matches the original excel file, in which numbering starts from 2\n",
    "\n",
    "df[\"id\"] = list(range(2,19004))\n",
    "df"
   ]
  },
  {
   "cell_type": "code",
   "execution_count": 14,
   "id": "ef37e38e-857b-45ca-a344-71208269c80e",
   "metadata": {},
   "outputs": [
    {
     "data": {
      "text/html": [
       "<div>\n",
       "<style scoped>\n",
       "    .dataframe tbody tr th:only-of-type {\n",
       "        vertical-align: middle;\n",
       "    }\n",
       "\n",
       "    .dataframe tbody tr th {\n",
       "        vertical-align: top;\n",
       "    }\n",
       "\n",
       "    .dataframe thead th {\n",
       "        text-align: right;\n",
       "    }\n",
       "</style>\n",
       "<table border=\"1\" class=\"dataframe\">\n",
       "  <thead>\n",
       "    <tr style=\"text-align: right;\">\n",
       "      <th></th>\n",
       "      <th>text</th>\n",
       "      <th>label</th>\n",
       "      <th>id</th>\n",
       "    </tr>\n",
       "  </thead>\n",
       "  <tbody>\n",
       "    <tr>\n",
       "      <th>0</th>\n",
       "      <td>Parlamentti valitsi lauantaina ensimmäistä ker...</td>\n",
       "      <td>3</td>\n",
       "      <td>2</td>\n",
       "    </tr>\n",
       "    <tr>\n",
       "      <th>1</th>\n",
       "      <td>Neljän viime vuoden aikana Unkarin BKT on kasv...</td>\n",
       "      <td>2</td>\n",
       "      <td>3</td>\n",
       "    </tr>\n",
       "    <tr>\n",
       "      <th>2</th>\n",
       "      <td>Jos jatkatte näin, Unkarista tulee Euroopan kö...</td>\n",
       "      <td>2</td>\n",
       "      <td>4</td>\n",
       "    </tr>\n",
       "    <tr>\n",
       "      <th>3</th>\n",
       "      <td>Vuodesta 2010 lähtien Unkarissa ei ole enää el...</td>\n",
       "      <td>2</td>\n",
       "      <td>5</td>\n",
       "    </tr>\n",
       "    <tr>\n",
       "      <th>4</th>\n",
       "      <td>Tosiasia on, että vaikka vähimmäispalkkaa koro...</td>\n",
       "      <td>2</td>\n",
       "      <td>6</td>\n",
       "    </tr>\n",
       "    <tr>\n",
       "      <th>...</th>\n",
       "      <td>...</td>\n",
       "      <td>...</td>\n",
       "      <td>...</td>\n",
       "    </tr>\n",
       "    <tr>\n",
       "      <th>18997</th>\n",
       "      <td>Tähän mennessä Jobbik-puolue, joka oli aiemmin...</td>\n",
       "      <td>3</td>\n",
       "      <td>18999</td>\n",
       "    </tr>\n",
       "    <tr>\n",
       "      <th>18998</th>\n",
       "      <td>Lázárin videon jälkeen (suosionosoitukset Jobb...</td>\n",
       "      <td>3</td>\n",
       "      <td>19000</td>\n",
       "    </tr>\n",
       "    <tr>\n",
       "      <th>18999</th>\n",
       "      <td>Pyydättekö anteeksi niiltä wieniläisiltä, joid...</td>\n",
       "      <td>3</td>\n",
       "      <td>19001</td>\n",
       "    </tr>\n",
       "    <tr>\n",
       "      <th>19000</th>\n",
       "      <td>Haluaisin vain huomauttaa, että Ferenc Gyurcsá...</td>\n",
       "      <td>3</td>\n",
       "      <td>19002</td>\n",
       "    </tr>\n",
       "    <tr>\n",
       "      <th>19001</th>\n",
       "      <td>Sen sijaan ehdotan, että suojelemme maan turva...</td>\n",
       "      <td>4</td>\n",
       "      <td>19003</td>\n",
       "    </tr>\n",
       "  </tbody>\n",
       "</table>\n",
       "<p>19002 rows × 3 columns</p>\n",
       "</div>"
      ],
      "text/plain": [
       "                                                    text  label     id\n",
       "0      Parlamentti valitsi lauantaina ensimmäistä ker...      3      2\n",
       "1      Neljän viime vuoden aikana Unkarin BKT on kasv...      2      3\n",
       "2      Jos jatkatte näin, Unkarista tulee Euroopan kö...      2      4\n",
       "3      Vuodesta 2010 lähtien Unkarissa ei ole enää el...      2      5\n",
       "4      Tosiasia on, että vaikka vähimmäispalkkaa koro...      2      6\n",
       "...                                                  ...    ...    ...\n",
       "18997  Tähän mennessä Jobbik-puolue, joka oli aiemmin...      3  18999\n",
       "18998  Lázárin videon jälkeen (suosionosoitukset Jobb...      3  19000\n",
       "18999  Pyydättekö anteeksi niiltä wieniläisiltä, joid...      3  19001\n",
       "19000  Haluaisin vain huomauttaa, että Ferenc Gyurcsá...      3  19002\n",
       "19001  Sen sijaan ehdotan, että suojelemme maan turva...      4  19003\n",
       "\n",
       "[19002 rows x 3 columns]"
      ]
     },
     "execution_count": 14,
     "metadata": {},
     "output_type": "execute_result"
    }
   ],
   "source": [
    "# Combine labels 3 and 4 -> 3, 5 and 6 -> 4 and 7 -> 5 to match our own labelling scheme\n",
    "\n",
    "df['label'] = df['label'].replace([4, 5, 6, 7], [3, 4, 4, 5])\n",
    "df"
   ]
  },
  {
   "cell_type": "code",
   "execution_count": 21,
   "id": "0f08096a-150b-47f1-8406-d8f767fc6ca7",
   "metadata": {},
   "outputs": [
    {
     "data": {
      "text/plain": [
       "label\n",
       "4    7043\n",
       "3    6760\n",
       "2    4258\n",
       "5     428\n",
       "0     351\n",
       "1     162\n",
       "Name: count, dtype: int64"
      ]
     },
     "execution_count": 21,
     "metadata": {},
     "output_type": "execute_result"
    }
   ],
   "source": [
    "df[\"label\"].value_counts()"
   ]
  },
  {
   "cell_type": "code",
   "execution_count": 17,
   "id": "b4347aa7-e454-4305-bc87-02209e537dcd",
   "metadata": {},
   "outputs": [],
   "source": [
    "# Split original DataFrame into training and testing sets\n",
    "df_train, df_test = train_test_split(df, test_size=0.2, random_state=0, stratify = df[\"label\"].to_list())\n",
    "\n",
    "# Split the test data further in to test and validation sets\n",
    "df_test, df_validation = train_test_split(df_test, test_size=0.5, random_state=0, stratify = df_test[\"label\"].to_list())"
   ]
  },
  {
   "cell_type": "code",
   "execution_count": 18,
   "id": "beb0679b-d614-4afd-ab17-ff7605dec16c",
   "metadata": {},
   "outputs": [
    {
     "name": "stdout",
     "output_type": "stream",
     "text": [
      "Counter({4: 5634, 3: 5408, 2: 3406, 5: 342, 0: 281, 1: 130})\n",
      "Counter({4: 705, 3: 676, 2: 426, 5: 43, 0: 35, 1: 16})\n",
      "Counter({4: 704, 3: 676, 2: 426, 5: 43, 0: 35, 1: 16})\n"
     ]
    }
   ],
   "source": [
    "# Make sure the splits are stratified\n",
    "print(Counter(df_train[\"label\"].to_list()))\n",
    "print(Counter(df_validation[\"label\"].to_list()))\n",
    "print(Counter(df_test[\"label\"].to_list()))"
   ]
  },
  {
   "cell_type": "code",
   "execution_count": 19,
   "id": "63dc4884-5ec2-4abb-ad11-09f32179fb54",
   "metadata": {},
   "outputs": [],
   "source": [
    "df_train.to_csv(\"../data/HunEmPoli_fi/HunEmPoli_fi_train.tsv\", sep = \"\\t\", index = False)\n",
    "df_validation.to_csv(\"../data/HunEmPoli_fi/HunEmPoli_fi_validation.tsv\", sep = \"\\t\", index = False)\n",
    "df_test.to_csv(\"../data/HunEmPoli_fi/HunEmPoli_fi_test.tsv\", sep = \"\\t\", index = False)"
   ]
  },
  {
   "cell_type": "code",
   "execution_count": null,
   "id": "66b959ba-b6d5-4709-9ac0-750ed9331b66",
   "metadata": {},
   "outputs": [],
   "source": []
  }
 ],
 "metadata": {
  "kernelspec": {
   "display_name": "Python 3 (ipykernel)",
   "language": "python",
   "name": "python3"
  },
  "language_info": {
   "codemirror_mode": {
    "name": "ipython",
    "version": 3
   },
   "file_extension": ".py",
   "mimetype": "text/x-python",
   "name": "python",
   "nbconvert_exporter": "python",
   "pygments_lexer": "ipython3",
   "version": "3.9.16"
  }
 },
 "nbformat": 4,
 "nbformat_minor": 5
}
