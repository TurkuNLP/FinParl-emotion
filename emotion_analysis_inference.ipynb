{
 "cells": [
  {
   "cell_type": "code",
   "execution_count": 1,
   "id": "76bf7a64-38f1-4b9c-b266-2647fb7302b2",
   "metadata": {},
   "outputs": [
    {
     "name": "stderr",
     "output_type": "stream",
     "text": [
      "/usr/local/lib64/python3.9/site-packages/torch/cuda/__init__.py:611: UserWarning: Can't initialize NVML\n",
      "  warnings.warn(\"Can't initialize NVML\")\n"
     ]
    }
   ],
   "source": [
    "from transformers import pipeline\n",
    "from sklearn.metrics import confusion_matrix, f1_score\n",
    "import transformers\n",
    "from tqdm import tqdm\n",
    "import pandas as pd\n",
    "import seaborn as sns\n",
    "import matplotlib.pyplot as plt"
   ]
  },
  {
   "cell_type": "code",
   "execution_count": 53,
   "id": "42ce9052-0a05-4812-9202-668a0ce2181c",
   "metadata": {},
   "outputs": [],
   "source": [
    "def get_sentences():\n",
    "    df = pd.read_csv(data_location, sep = \"\\t\")\n",
    "    return df[\"text\"].to_list()\n",
    "\n",
    "def get_gold_standard():\n",
    "    # Load in gold standard labels\n",
    "    with open(majority_labels, \"r\") as f:\n",
    "        data = f.readlines()\n",
    "        data = [ann.strip(\"\\n\") for ann in data]\n",
    "    # Make a list of gold standard but keep those with multiple values as lists\n",
    "    majority = []\n",
    "    for item in data:\n",
    "        # Check if the item contains commas\n",
    "        if ',' in item:\n",
    "            # Split the item by commas and add each split item to the flattened list\n",
    "            majority.append([int(ann) for ann in item.split(',')])\n",
    "        else:\n",
    "            # If the item doesn't contain commas, add it directly to the flattened list\n",
    "            majority.append([int(item)])\n",
    "    return majority\n",
    "\n",
    "def predict(sentences):\n",
    "    pipe = transformers.pipeline(\n",
    "    'text-classification',\n",
    "    model=model,\n",
    "    tokenizer=tokenizer,\n",
    "    #device=0,\n",
    "    )\n",
    "    preds = []\n",
    "    for text in tqdm(sentences):\n",
    "        preds.append(pipe(text))\n",
    "    \n",
    "    predicted_labels = [i[0][\"label\"] for i in preds]\n",
    "    print(f\"First few labels: {predicted_labels[0:10]}\")\n",
    "    print(f\"Labels: {set(predicted_labels)}\")\n",
    "    return predicted_labels\n",
    "\n",
    "def labels_to_ids(label_names, predicted_labels):\n",
    "    predicted_labels = [label_names.index(label) for label in predicted_labels]\n",
    "    print(f\"First few labeld ids: {predicted_labels[:10]}\")\n",
    "    return predicted_labels\n",
    "\n",
    "def calculate_f1(majority, predicted_labels):\n",
    "    # Calculate F1 by comparing predictions to majority\n",
    "    # Resolve ties so that if one of the items is in predictions, use that label. Else use first label.\n",
    "\n",
    "    winner_preds = []\n",
    "    winner_labels= []\n",
    "    for pred, gold in zip(predicted_labels, majority):\n",
    "        if len(gold) == 1:\n",
    "            winner_labels.append(gold[0])\n",
    "            winner_preds.append(pred)\n",
    "        else:\n",
    "            labels = [label for label in gold]\n",
    "            if pred in labels:\n",
    "                winner_labels.append(pred)\n",
    "                winner_preds.append(pred)\n",
    "            else:\n",
    "                winner_labels.extend(labels)\n",
    "                for _ in range(len(labels)):\n",
    "                    winner_preds.append(pred)\n",
    "    \n",
    "    print(len(winner_preds))\n",
    "    print(len(winner_labels))\n",
    "    # Calculate F1 score\n",
    "    f1_macro = f1_score(winner_labels, winner_preds, average='macro')\n",
    "    f1_micro = f1_score(winner_labels, winner_preds, average='micro')\n",
    "    \n",
    "    print(f\"Macro-average F1 Score: {f1_macro}\")\n",
    "    print(f\"Micro-average F1 Score: {f1_micro}\")"
   ]
  },
  {
   "cell_type": "markdown",
   "id": "34a691ac-320e-489f-883a-75af3f08a231",
   "metadata": {},
   "source": [
    "### This batch of code is for evaluating and plotting the Finparl model against gold standard"
   ]
  },
  {
   "cell_type": "code",
   "execution_count": 49,
   "id": "06d9802c-6aed-4b21-bae0-2ca01ff6aad3",
   "metadata": {},
   "outputs": [
    {
     "name": "stderr",
     "output_type": "stream",
     "text": [
      "100%|██████████| 251/251 [00:22<00:00, 11.25it/s]"
     ]
    },
    {
     "name": "stdout",
     "output_type": "stream",
     "text": [
      "First few labels: ['neutral', 'neutral', 'neutral', 'neutral', 'neutral', 'neutral', 'hopeful-optimistic-trust', 'hopeful-optimistic-trust', 'hopeful-optimistic-trust', 'neutral']\n",
      "Labels: {'fear-worry-distrust', 'hopeful-optimistic-trust', 'joy-success', 'sadness-disappointment', 'neutral', 'love-compliments', 'negative_surprise'}\n"
     ]
    },
    {
     "name": "stderr",
     "output_type": "stream",
     "text": [
      "\n"
     ]
    }
   ],
   "source": [
    "# Load fine-tuned model and associated tokenizer\n",
    "\n",
    "model_name = \"finparlmodel_2\"\n",
    "checkpoint = \"500\"\n",
    "model_dir = f\"../models/{model_name}/checkpoint-{checkpoint}\"\n",
    "model = transformers.AutoModelForSequenceClassification.from_pretrained(model_dir)\n",
    "tokenizer = transformers.AutoTokenizer.from_pretrained(model_dir)\n",
    "\n",
    "data_location = \"../data/gpt4_annotations/gpt4_annotations_test.tsv\"\n",
    "majority_labels = \"../data/human_annotations/annotations3_majority.txt\"\n",
    "\n",
    "# Get numbers\n",
    "sentences = get_sentences()\n",
    "gold = get_gold_standard()\n",
    "predictions = predict(sentences)"
   ]
  },
  {
   "cell_type": "code",
   "execution_count": 54,
   "id": "5d603a4d-2695-4984-ae01-158d7b60e31c",
   "metadata": {},
   "outputs": [
    {
     "name": "stdout",
     "output_type": "stream",
     "text": [
      "First few labeld ids: [0, 0, 0, 0, 0, 0, 2, 2, 2, 0]\n",
      "255\n",
      "255\n",
      "Macro-average F1 Score: 0.4110171678322454\n",
      "Micro-average F1 Score: 0.6901960784313725\n"
     ]
    }
   ],
   "source": [
    "# Get predictions.\n",
    "labels = [\"neutral\", \"joy-success\", \"hopeful-optimistic-trust\", \"love-compliments\", \"positive_surprise\", \"sadness-disappointment\", \"fear-worry-distrust\", \"hate-disgust-taunts-mockery\", \"negative_surprise\"]\n",
    "pred_ids = labels_to_ids(labels, predictions)\n",
    "\n",
    "# Calculate F1\n",
    "calculate_f1(gold, pred_ids)"
   ]
  },
  {
   "cell_type": "code",
   "execution_count": 5,
   "id": "155dd04f-8da1-49a6-b11f-43d1a4089b3f",
   "metadata": {},
   "outputs": [],
   "source": [
    "def flatten_majority(majority):\n",
    "    # Flatten the majority list\n",
    "    # Create DataFrames from the label lists\n",
    "    majority_flattened = []\n",
    "    for item in majority:\n",
    "        majority_flattened.extend(item)\n",
    "    return majority_flattened\n",
    "    \n",
    "def get_value_counts(majority_flattened, gpt4_predicted_labels):\n",
    "    majority_df = pd.DataFrame()\n",
    "    majority_df[\"label\"] = majority_flattened\n",
    "    gpt4_pred_df = pd.DataFrame()\n",
    "    gpt4_pred_df[\"label\"] = gpt4_predicted_labels\n",
    "    \n",
    "    # Get normalized value_counts\n",
    "    majority_valuecounts = majority_df[\"label\"].value_counts(normalize = True).round(2).to_dict()\n",
    "    gpt4_pred_valuecounts = gpt4_pred_df[\"label\"].value_counts(normalize = True).round(2).to_dict()\n",
    "    return majority_valuecounts, gpt4_pred_valuecounts\n",
    "\n",
    "def create_histogram(majority_valuecounts, gpt_pred_valuecounts, save=False):\n",
    "    # Create a histogram plot using Seaborn\n",
    "    # Convert dictionaries into a DataFrame\n",
    "    data = []\n",
    "    for key in set(majority_valuecounts) | set(gpt_pred_valuecounts):  # Union of keys from both dictionaries\n",
    "        data.append({'Key': key, 'Value': majority_valuecounts.get(key, 0), 'Source': 'Gold standard'})\n",
    "        data.append({'Key': key, 'Value': gpt_pred_valuecounts.get(key, 0), 'Source': 'GPT4 model'})\n",
    "    \n",
    "    df = pd.DataFrame(data)\n",
    "    \n",
    "    # Plotting\n",
    "    plt.figure(figsize=(10, 6))\n",
    "    sns.barplot(x='Key', y='Value', hue='Source', data=df, palette = [\"goldenrod\", \"blue\"])\n",
    "    plt.title('Model predictions against gold standard')\n",
    "    plt.xlabel('Label')\n",
    "    plt.ylabel('Proportion')\n",
    "    plt.legend(title=None)\n",
    "    plt.tight_layout()\n",
    "    if save:\n",
    "        plt.savefig(\"../figures/gpt4_preds_vs_gold\")\n",
    "    plt.show()"
   ]
  },
  {
   "cell_type": "code",
   "execution_count": 6,
   "id": "a25233cd-54e0-455a-8266-775303fb49c0",
   "metadata": {},
   "outputs": [
    {
     "data": {
      "image/png": "[encoded data removed]",
      "text/plain": [
       "<Figure size 1000x600 with 1 Axes>"
      ]
     },
     "metadata": {},
     "output_type": "display_data"
    }
   ],
   "source": [
    "# Get plot\n",
    "flat_gold = flatten_majority(gold)\n",
    "gold_vc, gpt4_pred_vc = get_value_counts(flat_gold, pred_ids)\n",
    "create_histogram(gold_vc,  gpt4_pred_vc, save = False)"
   ]
  },
  {
   "cell_type": "markdown",
   "id": "69e64dc5-f56a-491d-bda9-b1f4f3cf64ea",
   "metadata": {},
   "source": [
    "### This following batch of code is for evaluating the ME model"
   ]
  },
  {
   "cell_type": "code",
   "execution_count": 56,
   "id": "6567e083-8c3b-442f-a781-c1225ddb7bbc",
   "metadata": {},
   "outputs": [],
   "source": [
    "model_name = \"many_emotions_1_finparl_test\"\n",
    "checkpoint = 20000\n",
    "model_dir = f\"../models/{model_name}/checkpoint-{checkpoint}\"\n",
    "model = transformers.AutoModelForSequenceClassification.from_pretrained(model_dir)\n",
    "tokenizer = transformers.AutoTokenizer.from_pretrained(model_dir)\n",
    "\n",
    "data_location = \"../data/gpt4_annotations/gpt4_annotations_test.tsv\"\n",
    "majority_labels = \"../data/human_annotations/annotations3_majority.txt\""
   ]
  },
  {
   "cell_type": "code",
   "execution_count": 57,
   "id": "497fe0e5-40fd-413e-b4bf-db57a2d9b668",
   "metadata": {},
   "outputs": [],
   "source": [
    "def replace(label):\n",
    "    if label == 0:\n",
    "        return 6\n",
    "    elif label == 1:\n",
    "        return 2\n",
    "    elif label == 4:\n",
    "        return 5\n",
    "    elif label == 5:\n",
    "        return 4\n",
    "    elif label == 6:\n",
    "        return 1\n",
    "    elif label == 7:\n",
    "        return 0\n",
    "    elif label == 8:\n",
    "        return 5\n",
    "    else:\n",
    "        return label\n",
    "\n",
    "def harmonize_labels(labels):\n",
    "    for i, label in enumerate(labels):\n",
    "        if len(label) == 1:\n",
    "            labels[i][0] = replace(label[0])\n",
    "        else:\n",
    "            for idx, l in enumerate(label):\n",
    "                labels[i][idx] = replace(l)\n",
    "    return labels"
   ]
  },
  {
   "cell_type": "code",
   "execution_count": 58,
   "id": "37ac4d7d-9a7a-40da-9431-227f1eca6eb6",
   "metadata": {},
   "outputs": [
    {
     "name": "stderr",
     "output_type": "stream",
     "text": [
      "100%|██████████| 251/251 [00:22<00:00, 11.38it/s]"
     ]
    },
    {
     "name": "stdout",
     "output_type": "stream",
     "text": [
      "First few labels: ['neutral', 'neutral', 'neutral', 'neutral', 'neutral', 'neutral', 'joy', 'neutral', 'neutral', 'neutral']\n",
      "Labels: {'neutral', 'joy'}\n",
      "First few labeld ids: [6, 6, 6, 6, 6, 6, 2, 6, 6, 6]\n",
      "263\n",
      "263\n",
      "Macro-average F1 Score: 0.13795497580475488\n",
      "Micro-average F1 Score: 0.5741444866920152\n"
     ]
    },
    {
     "name": "stderr",
     "output_type": "stream",
     "text": [
      "\n"
     ]
    }
   ],
   "source": [
    "# Get numbers\n",
    "sentences = get_sentences()\n",
    "gold = get_gold_standard()\n",
    "\n",
    "# We have to turn gold standard labels into ME labels\n",
    "gold = harmonize_labels(gold)\n",
    "predictions = predict(sentences)\n",
    "\n",
    "# Get predictions.\n",
    "labels = [\"anger\", \"fear\", \"joy\", \"love\", \"sadness\", \"surprise\", \"neutral\"] # ME labels\n",
    "pred_ids = labels_to_ids(labels, predictions)\n",
    "# Calculate F1\n",
    "calculate_f1(gold, pred_ids)"
   ]
  },
  {
   "cell_type": "markdown",
   "id": "bac7202b-3409-4770-a4d6-9f75e4c1ab01",
   "metadata": {},
   "source": [
    "### This batch of code is for evaluating HunEmPoli model"
   ]
  },
  {
   "cell_type": "code",
   "execution_count": 59,
   "id": "3e3f805e-28fd-417f-91f1-b1aeadc9634b",
   "metadata": {},
   "outputs": [],
   "source": [
    "model_name = \"hunempoli_model_1\"\n",
    "checkpoint = \"500\"\n",
    "model_dir = f\"../models/{model_name}/checkpoint-{checkpoint}\"\n",
    "model = transformers.AutoModelForSequenceClassification.from_pretrained(model_dir)\n",
    "tokenizer = transformers.AutoTokenizer.from_pretrained(model_dir)\n",
    "\n",
    "data_location = \"../data/gpt4_annotations/gpt4_annotations_test.tsv\"\n",
    "majority_labels = \"../data/human_annotations/annotations3_majority.txt\""
   ]
  },
  {
   "cell_type": "code",
   "execution_count": 61,
   "id": "93b8337b-eae6-4536-af87-07bc5e527ea7",
   "metadata": {},
   "outputs": [],
   "source": [
    "def replace(label):\n",
    "    if label == 6:\n",
    "        return 1\n",
    "    elif label == 5:\n",
    "        return 2\n",
    "    elif label == 7:\n",
    "        return 3\n",
    "    elif label == 1:\n",
    "        return 4\n",
    "    elif label == 2:\n",
    "        return 5\n",
    "    elif label in [3,4,8]:\n",
    "        return None\n",
    "    else:\n",
    "        return label\n",
    "\n",
    "def drop_none(gold):\n",
    "    out = []\n",
    "    for label in gold:\n",
    "        if len(label) == 1:\n",
    "            if label[0] is not None:\n",
    "                out.append(label)\n",
    "        else:\n",
    "            out_label = []\n",
    "            for l in label:\n",
    "                if l is not None:\n",
    "                    out_label.append(l)\n",
    "            out.append(out_label)\n",
    "    return out"
   ]
  },
  {
   "cell_type": "code",
   "execution_count": 63,
   "id": "aebd1853-150c-4823-85d9-62a86db18a48",
   "metadata": {},
   "outputs": [
    {
     "name": "stderr",
     "output_type": "stream",
     "text": [
      "100%|██████████| 251/251 [00:22<00:00, 11.14it/s]"
     ]
    },
    {
     "name": "stdout",
     "output_type": "stream",
     "text": [
      "First few labels: ['neutral', 'neutral', 'success-joy', 'anger-digsust', 'anger-digsust', 'neutral', 'success-joy', 'success-joy', 'success-joy', 'success-joy']\n",
      "Labels: {'trust', 'success-joy', 'anger-digsust', 'sadness', 'neutral'}\n",
      "First few labeld ids: [0, 0, 4, 3, 3, 0, 4, 4, 4, 4]\n",
      "234\n",
      "234\n",
      "Macro-average F1 Score: 0.18184820668027657\n",
      "Micro-average F1 Score: 0.2606837606837607\n"
     ]
    },
    {
     "name": "stderr",
     "output_type": "stream",
     "text": [
      "\n"
     ]
    }
   ],
   "source": [
    "# Get numbers\n",
    "sentences = get_sentences()\n",
    "gold = get_gold_standard()\n",
    "\n",
    "# We have to turn gold standard labels into ME labels\n",
    "gold = harmonize_labels(gold)\n",
    "gold = drop_none(gold)\n",
    "predictions = predict(sentences)\n",
    "\n",
    "# Get predictions.\n",
    "labels = [\"neutral\", \"fear\", \"sadness\", \"anger-digsust\", \"success-joy\", \"trust\"] # HunEmPoli labels\n",
    "pred_ids = labels_to_ids(labels, predictions)\n",
    "# Calculate F1\n",
    "calculate_f1(gold, pred_ids)"
   ]
  },
  {
   "cell_type": "code",
   "execution_count": null,
   "id": "36dd8bed-5cdb-49e9-95af-bddf713432e9",
   "metadata": {},
   "outputs": [],
   "source": []
  }
 ],
 "metadata": {
  "kernelspec": {
   "display_name": "Python 3 (ipykernel)",
   "language": "python",
   "name": "python3"
  },
  "language_info": {
   "codemirror_mode": {
    "name": "ipython",
    "version": 3
   },
   "file_extension": ".py",
   "mimetype": "text/x-python",
   "name": "python",
   "nbconvert_exporter": "python",
   "pygments_lexer": "ipython3",
   "version": "3.9.16"
  }
 },
 "nbformat": 4,
 "nbformat_minor": 5
}
